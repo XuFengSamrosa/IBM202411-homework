{
 "cells": [
  {
   "cell_type": "markdown",
   "id": "0e1e42ee-3345-4f5b-b95a-7f3898e26aae",
   "metadata": {},
   "source": [
    "# Data Science Tools and Ecosystem"
   ]
  },
  {
   "cell_type": "markdown",
   "id": "f59b877f-c714-4024-91d2-7dced568bb8b",
   "metadata": {},
   "source": [
    "In this notebook, Data Science Tools and Ecosystem are summarized."
   ]
  },
  {
   "cell_type": "markdown",
   "id": "a46f4688-b830-4902-aaac-716e6e31da5a",
   "metadata": {},
   "source": [
    "Some of the popular languages that Data Scientists use are:\n",
    "1. Python\n",
    "2. Julia\n",
    "3. R\n",
    "4. JAVA"
   ]
  },
  {
   "cell_type": "markdown",
   "id": "24dbd514-1a81-4efe-b519-16d830a60c9b",
   "metadata": {},
   "source": [
    "Some of the commonly used libraries used by Data Scientists include:\n",
    "1. Pandas\n",
    "2. Numpy\n",
    "3. GGPLOT"
   ]
  },
  {
   "cell_type": "markdown",
   "id": "6fab2850-3e3a-4470-bf9a-3ec0bae6b1d8",
   "metadata": {},
   "source": [
    "|Data Science Tools|\n",
    "|-|\n",
    "|Spark|\n",
    "|Flink|\n",
    "|MySQL|"
   ]
  },
  {
   "cell_type": "markdown",
   "id": "95a39b4c-9447-437f-b6ea-8ece285b5400",
   "metadata": {},
   "source": [
    "### Below are a few examples of evaluating arithmetic expressions in Python"
   ]
  },
  {
   "cell_type": "code",
   "execution_count": 18,
   "id": "4a53f074-f001-47a0-9887-dcf344810360",
   "metadata": {},
   "outputs": [
    {
     "data": {
      "text/plain": [
       "17"
      ]
     },
     "execution_count": 18,
     "metadata": {},
     "output_type": "execute_result"
    }
   ],
   "source": [
    "#This a simple arithmetic expression to mutiply then add integers\n",
    "(3*4)+5"
   ]
  },
  {
   "cell_type": "code",
   "execution_count": 20,
   "id": "3fecec0e-7d2f-455e-b33f-e94822c2d576",
   "metadata": {},
   "outputs": [
    {
     "name": "stdout",
     "output_type": "stream",
     "text": [
      "3.3333333333333335\n"
     ]
    }
   ],
   "source": [
    "#This will convert 200 minutes to hours by diving by 60\n",
    "hours = 200/60\n",
    "print(hours)"
   ]
  },
  {
   "cell_type": "markdown",
   "id": "33fb6d25-0101-4e22-809b-7ae86bfd9808",
   "metadata": {},
   "source": [
    "__Objectives:__\n",
    "* List popular languages for Data Science\n",
    "* List popular tools for Data Science\n",
    "* List expressions"
   ]
  },
  {
   "cell_type": "markdown",
   "id": "8ca6e193-d610-4c4b-b739-6e56c9dabe75",
   "metadata": {},
   "source": [
    "## Author\n",
    "Xu Feng"
   ]
  },
  {
   "cell_type": "code",
   "execution_count": null,
   "id": "a1a7f1e4-2db2-4ceb-9e8a-bc42fb04e546",
   "metadata": {},
   "outputs": [],
   "source": []
  }
 ],
 "metadata": {
  "kernelspec": {
   "display_name": "Python [conda env:base] *",
   "language": "python",
   "name": "conda-base-py"
  },
  "language_info": {
   "codemirror_mode": {
    "name": "ipython",
    "version": 3
   },
   "file_extension": ".py",
   "mimetype": "text/x-python",
   "name": "python",
   "nbconvert_exporter": "python",
   "pygments_lexer": "ipython3",
   "version": "3.12.7"
  }
 },
 "nbformat": 4,
 "nbformat_minor": 5
}
